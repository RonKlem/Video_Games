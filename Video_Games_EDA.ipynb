{
 "cells": [
  {
   "cell_type": "code",
   "execution_count": 2,
   "metadata": {},
   "outputs": [],
   "source": [
    "# importting Libraries\n",
    "import pandas as pd\n",
    "import numpy as np\n",
    "import matplotlib.pyplot as plt\n",
    "import seaborn as sns"
   ]
  },
  {
   "cell_type": "markdown",
   "metadata": {},
   "source": [
    "# Exploratory Data Analysis"
   ]
  },
  {
   "cell_type": "code",
   "execution_count": 11,
   "metadata": {},
   "outputs": [
    {
     "name": "stderr",
     "output_type": "stream",
     "text": [
      "C:\\Users\\G1RXK02\\AppData\\Local\\Temp\\ipykernel_5952\\1507300246.py:2: DtypeWarning: Columns (12) have mixed types. Specify dtype option on import or set low_memory=False.\n",
      "  df = pd.read_csv(\"metacritic_pc_games.csv\")\n"
     ]
    },
    {
     "data": {
      "text/html": [
       "<div>\n",
       "<style scoped>\n",
       "    .dataframe tbody tr th:only-of-type {\n",
       "        vertical-align: middle;\n",
       "    }\n",
       "\n",
       "    .dataframe tbody tr th {\n",
       "        vertical-align: top;\n",
       "    }\n",
       "\n",
       "    .dataframe thead th {\n",
       "        text-align: right;\n",
       "    }\n",
       "</style>\n",
       "<table border=\"1\" class=\"dataframe\">\n",
       "  <thead>\n",
       "    <tr style=\"text-align: right;\">\n",
       "      <th></th>\n",
       "      <th>Game Title</th>\n",
       "      <th>Game Poster</th>\n",
       "      <th>Game Release Date</th>\n",
       "      <th>Game Developer</th>\n",
       "      <th>Genre</th>\n",
       "      <th>Platforms</th>\n",
       "      <th>Product Rating</th>\n",
       "      <th>Overall Metascore</th>\n",
       "      <th>Overall User Rating</th>\n",
       "      <th>Reviewer Name</th>\n",
       "      <th>Reviewer Type</th>\n",
       "      <th>Rating Given By The Reviewer</th>\n",
       "      <th>Review Date</th>\n",
       "      <th>Review Text</th>\n",
       "    </tr>\n",
       "  </thead>\n",
       "  <tbody>\n",
       "    <tr>\n",
       "      <th>0</th>\n",
       "      <td>.hackG.U. Last Recode</td>\n",
       "      <td>https://static.metacritic.com/images/products/...</td>\n",
       "      <td>3-Nov-17</td>\n",
       "      <td>CyberConnect2</td>\n",
       "      <td>Genre(s):Miscellaneous,Compilation</td>\n",
       "      <td>PlayStation4,Switch,PC</td>\n",
       "      <td>T</td>\n",
       "      <td>69.0</td>\n",
       "      <td>8.1</td>\n",
       "      <td>ZTGD</td>\n",
       "      <td>Critic</td>\n",
       "      <td>85.0</td>\n",
       "      <td>NaN</td>\n",
       "      <td>The release of .hack//G.U. Last Recode is a ...</td>\n",
       "    </tr>\n",
       "    <tr>\n",
       "      <th>1</th>\n",
       "      <td>.hackG.U. Last Recode</td>\n",
       "      <td>https://static.metacritic.com/images/products/...</td>\n",
       "      <td>3-Nov-17</td>\n",
       "      <td>CyberConnect2</td>\n",
       "      <td>Genre(s):Miscellaneous,Compilation</td>\n",
       "      <td>PlayStation4,Switch,PC</td>\n",
       "      <td>T</td>\n",
       "      <td>69.0</td>\n",
       "      <td>8.1</td>\n",
       "      <td>RPGamer</td>\n",
       "      <td>Critic</td>\n",
       "      <td>80.0</td>\n",
       "      <td>NaN</td>\n",
       "      <td>.hack//G.U. has remained one of my all-time ...</td>\n",
       "    </tr>\n",
       "    <tr>\n",
       "      <th>2</th>\n",
       "      <td>.hackG.U. Last Recode</td>\n",
       "      <td>https://static.metacritic.com/images/products/...</td>\n",
       "      <td>3-Nov-17</td>\n",
       "      <td>CyberConnect2</td>\n",
       "      <td>Genre(s):Miscellaneous,Compilation</td>\n",
       "      <td>PlayStation4,Switch,PC</td>\n",
       "      <td>T</td>\n",
       "      <td>69.0</td>\n",
       "      <td>8.1</td>\n",
       "      <td>COGconnected</td>\n",
       "      <td>Critic</td>\n",
       "      <td>75.0</td>\n",
       "      <td>NaN</td>\n",
       "      <td>Last Recode turned out to be something that ...</td>\n",
       "    </tr>\n",
       "    <tr>\n",
       "      <th>3</th>\n",
       "      <td>.hackG.U. Last Recode</td>\n",
       "      <td>https://static.metacritic.com/images/products/...</td>\n",
       "      <td>3-Nov-17</td>\n",
       "      <td>CyberConnect2</td>\n",
       "      <td>Genre(s):Miscellaneous,Compilation</td>\n",
       "      <td>PlayStation4,Switch,PC</td>\n",
       "      <td>T</td>\n",
       "      <td>69.0</td>\n",
       "      <td>8.1</td>\n",
       "      <td>Worth Playing</td>\n",
       "      <td>Critic</td>\n",
       "      <td>70.0</td>\n",
       "      <td>NaN</td>\n",
       "      <td>.hack//G.U. Last Recode is really for the fa...</td>\n",
       "    </tr>\n",
       "    <tr>\n",
       "      <th>4</th>\n",
       "      <td>.hackG.U. Last Recode</td>\n",
       "      <td>https://static.metacritic.com/images/products/...</td>\n",
       "      <td>3-Nov-17</td>\n",
       "      <td>CyberConnect2</td>\n",
       "      <td>Genre(s):Miscellaneous,Compilation</td>\n",
       "      <td>PlayStation4,Switch,PC</td>\n",
       "      <td>T</td>\n",
       "      <td>69.0</td>\n",
       "      <td>8.1</td>\n",
       "      <td>CGMagazine</td>\n",
       "      <td>Critic</td>\n",
       "      <td>70.0</td>\n",
       "      <td>NaN</td>\n",
       "      <td>.hack//G.U. Last Recode is a fascinating nov...</td>\n",
       "    </tr>\n",
       "  </tbody>\n",
       "</table>\n",
       "</div>"
      ],
      "text/plain": [
       "              Game Title                                        Game Poster  \\\n",
       "0  .hackG.U. Last Recode  https://static.metacritic.com/images/products/...   \n",
       "1  .hackG.U. Last Recode  https://static.metacritic.com/images/products/...   \n",
       "2  .hackG.U. Last Recode  https://static.metacritic.com/images/products/...   \n",
       "3  .hackG.U. Last Recode  https://static.metacritic.com/images/products/...   \n",
       "4  .hackG.U. Last Recode  https://static.metacritic.com/images/products/...   \n",
       "\n",
       "  Game Release Date  Game Developer                               Genre  \\\n",
       "0          3-Nov-17  CyberConnect2   Genre(s):Miscellaneous,Compilation   \n",
       "1          3-Nov-17  CyberConnect2   Genre(s):Miscellaneous,Compilation   \n",
       "2          3-Nov-17  CyberConnect2   Genre(s):Miscellaneous,Compilation   \n",
       "3          3-Nov-17  CyberConnect2   Genre(s):Miscellaneous,Compilation   \n",
       "4          3-Nov-17  CyberConnect2   Genre(s):Miscellaneous,Compilation   \n",
       "\n",
       "                Platforms Product Rating  Overall Metascore  \\\n",
       "0  PlayStation4,Switch,PC              T               69.0   \n",
       "1  PlayStation4,Switch,PC              T               69.0   \n",
       "2  PlayStation4,Switch,PC              T               69.0   \n",
       "3  PlayStation4,Switch,PC              T               69.0   \n",
       "4  PlayStation4,Switch,PC              T               69.0   \n",
       "\n",
       "  Overall User Rating  Reviewer Name Reviewer Type  \\\n",
       "0                 8.1           ZTGD        Critic   \n",
       "1                 8.1        RPGamer        Critic   \n",
       "2                 8.1   COGconnected        Critic   \n",
       "3                 8.1  Worth Playing        Critic   \n",
       "4                 8.1     CGMagazine        Critic   \n",
       "\n",
       "   Rating Given By The Reviewer Review Date  \\\n",
       "0                          85.0         NaN   \n",
       "1                          80.0         NaN   \n",
       "2                          75.0         NaN   \n",
       "3                          70.0         NaN   \n",
       "4                          70.0         NaN   \n",
       "\n",
       "                                         Review Text  \n",
       "0    The release of .hack//G.U. Last Recode is a ...  \n",
       "1    .hack//G.U. has remained one of my all-time ...  \n",
       "2    Last Recode turned out to be something that ...  \n",
       "3    .hack//G.U. Last Recode is really for the fa...  \n",
       "4    .hack//G.U. Last Recode is a fascinating nov...  "
      ]
     },
     "execution_count": 11,
     "metadata": {},
     "output_type": "execute_result"
    }
   ],
   "source": [
    "# Load the dataset\n",
    "df = pd.read_csv(\"metacritic_pc_games.csv\")\n",
    "\n",
    "df.head()"
   ]
  },
  {
   "cell_type": "code",
   "execution_count": 12,
   "metadata": {},
   "outputs": [
    {
     "data": {
      "text/html": [
       "<div>\n",
       "<style scoped>\n",
       "    .dataframe tbody tr th:only-of-type {\n",
       "        vertical-align: middle;\n",
       "    }\n",
       "\n",
       "    .dataframe tbody tr th {\n",
       "        vertical-align: top;\n",
       "    }\n",
       "\n",
       "    .dataframe thead th {\n",
       "        text-align: right;\n",
       "    }\n",
       "</style>\n",
       "<table border=\"1\" class=\"dataframe\">\n",
       "  <thead>\n",
       "    <tr style=\"text-align: right;\">\n",
       "      <th></th>\n",
       "      <th>Game Title</th>\n",
       "      <th>Game Poster</th>\n",
       "      <th>Game Release Date</th>\n",
       "      <th>Game Developer</th>\n",
       "      <th>Genre</th>\n",
       "      <th>Platforms</th>\n",
       "      <th>Product Rating</th>\n",
       "      <th>Overall Metascore</th>\n",
       "      <th>Overall User Rating</th>\n",
       "      <th>Reviewer Name</th>\n",
       "      <th>Reviewer Type</th>\n",
       "      <th>Rating Given By The Reviewer</th>\n",
       "      <th>Review Date</th>\n",
       "      <th>Review Text</th>\n",
       "    </tr>\n",
       "  </thead>\n",
       "  <tbody>\n",
       "    <tr>\n",
       "      <th>1257</th>\n",
       "      <td>ADR1FT</td>\n",
       "      <td>https://static.metacritic.com/images/products/...</td>\n",
       "      <td>28-Mar-16</td>\n",
       "      <td>Three One Zero</td>\n",
       "      <td>Genre(s):Action,ActionAdventure,General,Survival</td>\n",
       "      <td>PlayStation4,PC</td>\n",
       "      <td>T</td>\n",
       "      <td>64.0</td>\n",
       "      <td>5.3</td>\n",
       "      <td>Slant Magazine</td>\n",
       "      <td>Critic</td>\n",
       "      <td>60.0</td>\n",
       "      <td>NaN</td>\n",
       "      <td>Unlike Gravity, which spaced out its most fr...</td>\n",
       "    </tr>\n",
       "    <tr>\n",
       "      <th>118751</th>\n",
       "      <td>APB_ Reloaded</td>\n",
       "      <td>https://static.metacritic.com/images/products/...</td>\n",
       "      <td>1-Dec-11</td>\n",
       "      <td>Reloaded Productions, Reloaded Games Inc., Rel...</td>\n",
       "      <td>Genre(s):Role-Playing,MassivelyMultiplayerOnli...</td>\n",
       "      <td>PlayStation4,XboxOne,PC</td>\n",
       "      <td>M</td>\n",
       "      <td>56.0</td>\n",
       "      <td>5.7</td>\n",
       "      <td>Darkmark</td>\n",
       "      <td>User</td>\n",
       "      <td>0.0</td>\n",
       "      <td>28-Aug-15</td>\n",
       "      <td>A perk that gives immunity to vehicle damage?!...</td>\n",
       "    </tr>\n",
       "    <tr>\n",
       "      <th>1997</th>\n",
       "      <td>Age of Empires_ Definitive Edition</td>\n",
       "      <td>https://static.metacritic.com/images/products/...</td>\n",
       "      <td>20-Feb-18</td>\n",
       "      <td>Microsoft Game Studios, Forgotten Empires LLC</td>\n",
       "      <td>Genre(s):Strategy,Real-Time,Command</td>\n",
       "      <td>PC</td>\n",
       "      <td>T</td>\n",
       "      <td>69.0</td>\n",
       "      <td>6.7</td>\n",
       "      <td>The Games Machine</td>\n",
       "      <td>Critic</td>\n",
       "      <td>68.0</td>\n",
       "      <td>NaN</td>\n",
       "      <td>After hours spent in the world of Age of Emp...</td>\n",
       "    </tr>\n",
       "    <tr>\n",
       "      <th>362733</th>\n",
       "      <td>Outriders</td>\n",
       "      <td>https://static.metacritic.com/images/products/...</td>\n",
       "      <td>1-Apr-21</td>\n",
       "      <td>People Can Fly</td>\n",
       "      <td>Genre(s):Action,Shooter,Third-Person,Arcade</td>\n",
       "      <td>PlayStation4,PlayStation5,Stadia,XboxOne,XboxS...</td>\n",
       "      <td>M</td>\n",
       "      <td>73.0</td>\n",
       "      <td>5.7</td>\n",
       "      <td>Xinra68</td>\n",
       "      <td>User</td>\n",
       "      <td>8.0</td>\n",
       "      <td>21-Jun-22</td>\n",
       "      <td>I'm playing Outriders on a Steam FREE PLAY eve...</td>\n",
       "    </tr>\n",
       "    <tr>\n",
       "      <th>282496</th>\n",
       "      <td>Ghostrunner_ Project_Hel</td>\n",
       "      <td>https://static.metacritic.com/images/products/...</td>\n",
       "      <td>3-Mar-22</td>\n",
       "      <td>ONE MORE LEVEL</td>\n",
       "      <td>Genre(s):Action,Platformer,3D</td>\n",
       "      <td>PlayStation4,PlayStation5,Switch,XboxOne,XboxS...</td>\n",
       "      <td>NaN</td>\n",
       "      <td>76.0</td>\n",
       "      <td>7.1</td>\n",
       "      <td>Traxillion</td>\n",
       "      <td>User</td>\n",
       "      <td>7.0</td>\n",
       "      <td>12-Mar-22</td>\n",
       "      <td>As good as the original with some of the same ...</td>\n",
       "    </tr>\n",
       "  </tbody>\n",
       "</table>\n",
       "</div>"
      ],
      "text/plain": [
       "                                Game Title  \\\n",
       "1257                                ADR1FT   \n",
       "118751                       APB_ Reloaded   \n",
       "1997    Age of Empires_ Definitive Edition   \n",
       "362733                           Outriders   \n",
       "282496            Ghostrunner_ Project_Hel   \n",
       "\n",
       "                                              Game Poster Game Release Date  \\\n",
       "1257    https://static.metacritic.com/images/products/...         28-Mar-16   \n",
       "118751  https://static.metacritic.com/images/products/...          1-Dec-11   \n",
       "1997    https://static.metacritic.com/images/products/...         20-Feb-18   \n",
       "362733  https://static.metacritic.com/images/products/...          1-Apr-21   \n",
       "282496  https://static.metacritic.com/images/products/...          3-Mar-22   \n",
       "\n",
       "                                           Game Developer  \\\n",
       "1257                                      Three One Zero    \n",
       "118751  Reloaded Productions, Reloaded Games Inc., Rel...   \n",
       "1997       Microsoft Game Studios, Forgotten Empires LLC    \n",
       "362733                                    People Can Fly    \n",
       "282496                                    ONE MORE LEVEL    \n",
       "\n",
       "                                                    Genre  \\\n",
       "1257     Genre(s):Action,ActionAdventure,General,Survival   \n",
       "118751  Genre(s):Role-Playing,MassivelyMultiplayerOnli...   \n",
       "1997                  Genre(s):Strategy,Real-Time,Command   \n",
       "362733        Genre(s):Action,Shooter,Third-Person,Arcade   \n",
       "282496                      Genre(s):Action,Platformer,3D   \n",
       "\n",
       "                                                Platforms Product Rating  \\\n",
       "1257                                      PlayStation4,PC              T   \n",
       "118751                            PlayStation4,XboxOne,PC              M   \n",
       "1997                                                   PC              T   \n",
       "362733  PlayStation4,PlayStation5,Stadia,XboxOne,XboxS...              M   \n",
       "282496  PlayStation4,PlayStation5,Switch,XboxOne,XboxS...            NaN   \n",
       "\n",
       "        Overall Metascore Overall User Rating      Reviewer Name  \\\n",
       "1257                 64.0                 5.3     Slant Magazine   \n",
       "118751               56.0                 5.7           Darkmark   \n",
       "1997                 69.0                 6.7  The Games Machine   \n",
       "362733               73.0                 5.7            Xinra68   \n",
       "282496               76.0                 7.1         Traxillion   \n",
       "\n",
       "       Reviewer Type  Rating Given By The Reviewer Review Date  \\\n",
       "1257          Critic                          60.0         NaN   \n",
       "118751          User                           0.0   28-Aug-15   \n",
       "1997          Critic                          68.0         NaN   \n",
       "362733          User                           8.0   21-Jun-22   \n",
       "282496          User                           7.0   12-Mar-22   \n",
       "\n",
       "                                              Review Text  \n",
       "1257      Unlike Gravity, which spaced out its most fr...  \n",
       "118751  A perk that gives immunity to vehicle damage?!...  \n",
       "1997      After hours spent in the world of Age of Emp...  \n",
       "362733  I'm playing Outriders on a Steam FREE PLAY eve...  \n",
       "282496  As good as the original with some of the same ...  "
      ]
     },
     "execution_count": 12,
     "metadata": {},
     "output_type": "execute_result"
    }
   ],
   "source": [
    "df.sample(5)"
   ]
  },
  {
   "cell_type": "markdown",
   "metadata": {},
   "source": [
    "## Initial Insights:\n",
    "\n",
    "- NaN represents missing values\n",
    "- Nested data in Genre and Platforms\n",
    "    - separated by ','"
   ]
  },
  {
   "cell_type": "code",
   "execution_count": 13,
   "metadata": {},
   "outputs": [
    {
     "data": {
      "text/plain": [
       "(513250, 14)"
      ]
     },
     "execution_count": 13,
     "metadata": {},
     "output_type": "execute_result"
    }
   ],
   "source": [
    "df.shape"
   ]
  },
  {
   "cell_type": "code",
   "execution_count": 14,
   "metadata": {},
   "outputs": [
    {
     "data": {
      "text/plain": [
       "Index(['Game Title', 'Game Poster', 'Game Release Date', 'Game Developer',\n",
       "       'Genre', 'Platforms', 'Product Rating', 'Overall Metascore',\n",
       "       'Overall User Rating', 'Reviewer Name', 'Reviewer Type',\n",
       "       'Rating Given By The Reviewer', 'Review Date', 'Review Text'],\n",
       "      dtype='object')"
      ]
     },
     "execution_count": 14,
     "metadata": {},
     "output_type": "execute_result"
    }
   ],
   "source": [
    "df.columns"
   ]
  },
  {
   "cell_type": "code",
   "execution_count": 15,
   "metadata": {},
   "outputs": [
    {
     "name": "stdout",
     "output_type": "stream",
     "text": [
      "<class 'pandas.core.frame.DataFrame'>\n",
      "RangeIndex: 513250 entries, 0 to 513249\n",
      "Data columns (total 14 columns):\n",
      " #   Column                        Non-Null Count   Dtype  \n",
      "---  ------                        --------------   -----  \n",
      " 0   Game Title                    513196 non-null  object \n",
      " 1   Game Poster                   513196 non-null  object \n",
      " 2   Game Release Date             513196 non-null  object \n",
      " 3   Game Developer                512977 non-null  object \n",
      " 4   Genre                         513196 non-null  object \n",
      " 5   Platforms                     513250 non-null  object \n",
      " 6   Product Rating                425527 non-null  object \n",
      " 7   Overall Metascore             513181 non-null  float64\n",
      " 8   Overall User Rating           513128 non-null  object \n",
      " 9   Reviewer Name                 512347 non-null  object \n",
      " 10  Reviewer Type                 513250 non-null  object \n",
      " 11  Rating Given By The Reviewer  510449 non-null  float64\n",
      " 12  Review Date                   405044 non-null  object \n",
      " 13  Review Text                   512804 non-null  object \n",
      "dtypes: float64(2), object(12)\n",
      "memory usage: 54.8+ MB\n"
     ]
    }
   ],
   "source": [
    "df.info()       # Data information"
   ]
  },
  {
   "cell_type": "markdown",
   "metadata": {},
   "source": [
    "## Dimension and Data Type Insights:\n",
    "\n",
    "- dataset contains - 513250 rows and 14 columns\n",
    "- 3 numeric columns: Overall Metascore, Overall User Rating, and Rating Given By The Reviewer\n",
    "    - Overall User Rating will need to be converted\n",
    "- Two date columns that will need to be converted - Game Release Date and Review Date"
   ]
  },
  {
   "cell_type": "code",
   "execution_count": 16,
   "metadata": {},
   "outputs": [
    {
     "data": {
      "text/html": [
       "<div>\n",
       "<style scoped>\n",
       "    .dataframe tbody tr th:only-of-type {\n",
       "        vertical-align: middle;\n",
       "    }\n",
       "\n",
       "    .dataframe tbody tr th {\n",
       "        vertical-align: top;\n",
       "    }\n",
       "\n",
       "    .dataframe thead th {\n",
       "        text-align: right;\n",
       "    }\n",
       "</style>\n",
       "<table border=\"1\" class=\"dataframe\">\n",
       "  <thead>\n",
       "    <tr style=\"text-align: right;\">\n",
       "      <th></th>\n",
       "      <th>Overall Metascore</th>\n",
       "      <th>Rating Given By The Reviewer</th>\n",
       "    </tr>\n",
       "  </thead>\n",
       "  <tbody>\n",
       "    <tr>\n",
       "      <th>count</th>\n",
       "      <td>513181.000000</td>\n",
       "      <td>510449.000000</td>\n",
       "    </tr>\n",
       "    <tr>\n",
       "      <th>mean</th>\n",
       "      <td>78.038969</td>\n",
       "      <td>20.304416</td>\n",
       "    </tr>\n",
       "    <tr>\n",
       "      <th>std</th>\n",
       "      <td>11.899605</td>\n",
       "      <td>28.682055</td>\n",
       "    </tr>\n",
       "    <tr>\n",
       "      <th>min</th>\n",
       "      <td>16.000000</td>\n",
       "      <td>0.000000</td>\n",
       "    </tr>\n",
       "    <tr>\n",
       "      <th>25%</th>\n",
       "      <td>72.000000</td>\n",
       "      <td>4.000000</td>\n",
       "    </tr>\n",
       "    <tr>\n",
       "      <th>50%</th>\n",
       "      <td>80.000000</td>\n",
       "      <td>9.000000</td>\n",
       "    </tr>\n",
       "    <tr>\n",
       "      <th>75%</th>\n",
       "      <td>86.000000</td>\n",
       "      <td>10.000000</td>\n",
       "    </tr>\n",
       "    <tr>\n",
       "      <th>max</th>\n",
       "      <td>97.000000</td>\n",
       "      <td>100.000000</td>\n",
       "    </tr>\n",
       "  </tbody>\n",
       "</table>\n",
       "</div>"
      ],
      "text/plain": [
       "       Overall Metascore  Rating Given By The Reviewer\n",
       "count      513181.000000                 510449.000000\n",
       "mean           78.038969                     20.304416\n",
       "std            11.899605                     28.682055\n",
       "min            16.000000                      0.000000\n",
       "25%            72.000000                      4.000000\n",
       "50%            80.000000                      9.000000\n",
       "75%            86.000000                     10.000000\n",
       "max            97.000000                    100.000000"
      ]
     },
     "execution_count": 16,
     "metadata": {},
     "output_type": "execute_result"
    }
   ],
   "source": [
    "df.describe()   # Describe the data"
   ]
  },
  {
   "cell_type": "code",
   "execution_count": 17,
   "metadata": {},
   "outputs": [
    {
     "data": {
      "text/html": [
       "<div>\n",
       "<style scoped>\n",
       "    .dataframe tbody tr th:only-of-type {\n",
       "        vertical-align: middle;\n",
       "    }\n",
       "\n",
       "    .dataframe tbody tr th {\n",
       "        vertical-align: top;\n",
       "    }\n",
       "\n",
       "    .dataframe thead th {\n",
       "        text-align: right;\n",
       "    }\n",
       "</style>\n",
       "<table border=\"1\" class=\"dataframe\">\n",
       "  <thead>\n",
       "    <tr style=\"text-align: right;\">\n",
       "      <th></th>\n",
       "      <th>Game Title</th>\n",
       "      <th>Game Poster</th>\n",
       "      <th>Game Release Date</th>\n",
       "      <th>Game Developer</th>\n",
       "      <th>Genre</th>\n",
       "      <th>Platforms</th>\n",
       "      <th>Product Rating</th>\n",
       "      <th>Overall Metascore</th>\n",
       "      <th>Overall User Rating</th>\n",
       "      <th>Reviewer Name</th>\n",
       "      <th>Reviewer Type</th>\n",
       "      <th>Rating Given By The Reviewer</th>\n",
       "      <th>Review Date</th>\n",
       "      <th>Review Text</th>\n",
       "    </tr>\n",
       "  </thead>\n",
       "  <tbody>\n",
       "    <tr>\n",
       "      <th>count</th>\n",
       "      <td>513196</td>\n",
       "      <td>513196</td>\n",
       "      <td>513196</td>\n",
       "      <td>512977</td>\n",
       "      <td>513196</td>\n",
       "      <td>513250</td>\n",
       "      <td>425527</td>\n",
       "      <td>513181.000000</td>\n",
       "      <td>513128</td>\n",
       "      <td>512347</td>\n",
       "      <td>513250</td>\n",
       "      <td>510449.000000</td>\n",
       "      <td>405044</td>\n",
       "      <td>512804</td>\n",
       "    </tr>\n",
       "    <tr>\n",
       "      <th>unique</th>\n",
       "      <td>5445</td>\n",
       "      <td>5437</td>\n",
       "      <td>3155</td>\n",
       "      <td>2686</td>\n",
       "      <td>1300</td>\n",
       "      <td>231</td>\n",
       "      <td>7</td>\n",
       "      <td>NaN</td>\n",
       "      <td>86</td>\n",
       "      <td>219209</td>\n",
       "      <td>2</td>\n",
       "      <td>NaN</td>\n",
       "      <td>7927</td>\n",
       "      <td>503680</td>\n",
       "    </tr>\n",
       "    <tr>\n",
       "      <th>top</th>\n",
       "      <td>Cyberpunk 2077</td>\n",
       "      <td>https://static.metacritic.com/images/products/...</td>\n",
       "      <td>10-Dec-20</td>\n",
       "      <td>Blizzard Entertainment</td>\n",
       "      <td>Genre(s):Action,Shooter,Shooter,First-Person,S...</td>\n",
       "      <td>PC</td>\n",
       "      <td>M</td>\n",
       "      <td>NaN</td>\n",
       "      <td>7</td>\n",
       "      <td>IGN</td>\n",
       "      <td>User</td>\n",
       "      <td>NaN</td>\n",
       "      <td>1-Feb-20</td>\n",
       "      <td>Quotation forthcoming.</td>\n",
       "    </tr>\n",
       "    <tr>\n",
       "      <th>freq</th>\n",
       "      <td>14543</td>\n",
       "      <td>14543</td>\n",
       "      <td>14640</td>\n",
       "      <td>38152</td>\n",
       "      <td>25649</td>\n",
       "      <td>150738</td>\n",
       "      <td>242419</td>\n",
       "      <td>NaN</td>\n",
       "      <td>27764</td>\n",
       "      <td>2942</td>\n",
       "      <td>405329</td>\n",
       "      <td>NaN</td>\n",
       "      <td>3059</td>\n",
       "      <td>774</td>\n",
       "    </tr>\n",
       "    <tr>\n",
       "      <th>mean</th>\n",
       "      <td>NaN</td>\n",
       "      <td>NaN</td>\n",
       "      <td>NaN</td>\n",
       "      <td>NaN</td>\n",
       "      <td>NaN</td>\n",
       "      <td>NaN</td>\n",
       "      <td>NaN</td>\n",
       "      <td>78.038969</td>\n",
       "      <td>NaN</td>\n",
       "      <td>NaN</td>\n",
       "      <td>NaN</td>\n",
       "      <td>20.304416</td>\n",
       "      <td>NaN</td>\n",
       "      <td>NaN</td>\n",
       "    </tr>\n",
       "    <tr>\n",
       "      <th>std</th>\n",
       "      <td>NaN</td>\n",
       "      <td>NaN</td>\n",
       "      <td>NaN</td>\n",
       "      <td>NaN</td>\n",
       "      <td>NaN</td>\n",
       "      <td>NaN</td>\n",
       "      <td>NaN</td>\n",
       "      <td>11.899605</td>\n",
       "      <td>NaN</td>\n",
       "      <td>NaN</td>\n",
       "      <td>NaN</td>\n",
       "      <td>28.682055</td>\n",
       "      <td>NaN</td>\n",
       "      <td>NaN</td>\n",
       "    </tr>\n",
       "    <tr>\n",
       "      <th>min</th>\n",
       "      <td>NaN</td>\n",
       "      <td>NaN</td>\n",
       "      <td>NaN</td>\n",
       "      <td>NaN</td>\n",
       "      <td>NaN</td>\n",
       "      <td>NaN</td>\n",
       "      <td>NaN</td>\n",
       "      <td>16.000000</td>\n",
       "      <td>NaN</td>\n",
       "      <td>NaN</td>\n",
       "      <td>NaN</td>\n",
       "      <td>0.000000</td>\n",
       "      <td>NaN</td>\n",
       "      <td>NaN</td>\n",
       "    </tr>\n",
       "    <tr>\n",
       "      <th>25%</th>\n",
       "      <td>NaN</td>\n",
       "      <td>NaN</td>\n",
       "      <td>NaN</td>\n",
       "      <td>NaN</td>\n",
       "      <td>NaN</td>\n",
       "      <td>NaN</td>\n",
       "      <td>NaN</td>\n",
       "      <td>72.000000</td>\n",
       "      <td>NaN</td>\n",
       "      <td>NaN</td>\n",
       "      <td>NaN</td>\n",
       "      <td>4.000000</td>\n",
       "      <td>NaN</td>\n",
       "      <td>NaN</td>\n",
       "    </tr>\n",
       "    <tr>\n",
       "      <th>50%</th>\n",
       "      <td>NaN</td>\n",
       "      <td>NaN</td>\n",
       "      <td>NaN</td>\n",
       "      <td>NaN</td>\n",
       "      <td>NaN</td>\n",
       "      <td>NaN</td>\n",
       "      <td>NaN</td>\n",
       "      <td>80.000000</td>\n",
       "      <td>NaN</td>\n",
       "      <td>NaN</td>\n",
       "      <td>NaN</td>\n",
       "      <td>9.000000</td>\n",
       "      <td>NaN</td>\n",
       "      <td>NaN</td>\n",
       "    </tr>\n",
       "    <tr>\n",
       "      <th>75%</th>\n",
       "      <td>NaN</td>\n",
       "      <td>NaN</td>\n",
       "      <td>NaN</td>\n",
       "      <td>NaN</td>\n",
       "      <td>NaN</td>\n",
       "      <td>NaN</td>\n",
       "      <td>NaN</td>\n",
       "      <td>86.000000</td>\n",
       "      <td>NaN</td>\n",
       "      <td>NaN</td>\n",
       "      <td>NaN</td>\n",
       "      <td>10.000000</td>\n",
       "      <td>NaN</td>\n",
       "      <td>NaN</td>\n",
       "    </tr>\n",
       "    <tr>\n",
       "      <th>max</th>\n",
       "      <td>NaN</td>\n",
       "      <td>NaN</td>\n",
       "      <td>NaN</td>\n",
       "      <td>NaN</td>\n",
       "      <td>NaN</td>\n",
       "      <td>NaN</td>\n",
       "      <td>NaN</td>\n",
       "      <td>97.000000</td>\n",
       "      <td>NaN</td>\n",
       "      <td>NaN</td>\n",
       "      <td>NaN</td>\n",
       "      <td>100.000000</td>\n",
       "      <td>NaN</td>\n",
       "      <td>NaN</td>\n",
       "    </tr>\n",
       "  </tbody>\n",
       "</table>\n",
       "</div>"
      ],
      "text/plain": [
       "            Game Title                                        Game Poster  \\\n",
       "count           513196                                             513196   \n",
       "unique            5445                                               5437   \n",
       "top     Cyberpunk 2077  https://static.metacritic.com/images/products/...   \n",
       "freq             14543                                              14543   \n",
       "mean               NaN                                                NaN   \n",
       "std                NaN                                                NaN   \n",
       "min                NaN                                                NaN   \n",
       "25%                NaN                                                NaN   \n",
       "50%                NaN                                                NaN   \n",
       "75%                NaN                                                NaN   \n",
       "max                NaN                                                NaN   \n",
       "\n",
       "       Game Release Date           Game Developer  \\\n",
       "count             513196                   512977   \n",
       "unique              3155                     2686   \n",
       "top            10-Dec-20  Blizzard Entertainment    \n",
       "freq               14640                    38152   \n",
       "mean                 NaN                      NaN   \n",
       "std                  NaN                      NaN   \n",
       "min                  NaN                      NaN   \n",
       "25%                  NaN                      NaN   \n",
       "50%                  NaN                      NaN   \n",
       "75%                  NaN                      NaN   \n",
       "max                  NaN                      NaN   \n",
       "\n",
       "                                                    Genre Platforms  \\\n",
       "count                                              513196    513250   \n",
       "unique                                               1300       231   \n",
       "top     Genre(s):Action,Shooter,Shooter,First-Person,S...        PC   \n",
       "freq                                                25649    150738   \n",
       "mean                                                  NaN       NaN   \n",
       "std                                                   NaN       NaN   \n",
       "min                                                   NaN       NaN   \n",
       "25%                                                   NaN       NaN   \n",
       "50%                                                   NaN       NaN   \n",
       "75%                                                   NaN       NaN   \n",
       "max                                                   NaN       NaN   \n",
       "\n",
       "       Product Rating  Overall Metascore Overall User Rating Reviewer Name  \\\n",
       "count          425527      513181.000000              513128        512347   \n",
       "unique              7                NaN                  86        219209   \n",
       "top                 M                NaN                   7           IGN   \n",
       "freq           242419                NaN               27764          2942   \n",
       "mean              NaN          78.038969                 NaN           NaN   \n",
       "std               NaN          11.899605                 NaN           NaN   \n",
       "min               NaN          16.000000                 NaN           NaN   \n",
       "25%               NaN          72.000000                 NaN           NaN   \n",
       "50%               NaN          80.000000                 NaN           NaN   \n",
       "75%               NaN          86.000000                 NaN           NaN   \n",
       "max               NaN          97.000000                 NaN           NaN   \n",
       "\n",
       "       Reviewer Type  Rating Given By The Reviewer Review Date  \\\n",
       "count         513250                 510449.000000      405044   \n",
       "unique             2                           NaN        7927   \n",
       "top             User                           NaN    1-Feb-20   \n",
       "freq          405329                           NaN        3059   \n",
       "mean             NaN                     20.304416         NaN   \n",
       "std              NaN                     28.682055         NaN   \n",
       "min              NaN                      0.000000         NaN   \n",
       "25%              NaN                      4.000000         NaN   \n",
       "50%              NaN                      9.000000         NaN   \n",
       "75%              NaN                     10.000000         NaN   \n",
       "max              NaN                    100.000000         NaN   \n",
       "\n",
       "                      Review Text  \n",
       "count                      512804  \n",
       "unique                     503680  \n",
       "top       Quotation forthcoming.   \n",
       "freq                          774  \n",
       "mean                          NaN  \n",
       "std                           NaN  \n",
       "min                           NaN  \n",
       "25%                           NaN  \n",
       "50%                           NaN  \n",
       "75%                           NaN  \n",
       "max                           NaN  "
      ]
     },
     "execution_count": 17,
     "metadata": {},
     "output_type": "execute_result"
    }
   ],
   "source": [
    "df.describe(include = 'all')        # Include the categorical variables"
   ]
  },
  {
   "cell_type": "markdown",
   "metadata": {},
   "source": [
    "## Descriptive Statistics Insights:\n",
    "\n",
    "- mean overall metascore is close to 50th percentile\n",
    "- big difference between mean and max for Rating by the Reviewer - possible outliers\n",
    "- 1 column has 2 unique values - Reviewer Type"
   ]
  },
  {
   "cell_type": "code",
   "execution_count": 18,
   "metadata": {},
   "outputs": [
    {
     "data": {
      "text/plain": [
       "2"
      ]
     },
     "execution_count": 18,
     "metadata": {},
     "output_type": "execute_result"
    }
   ],
   "source": [
    "df['Reviewer Type'].nunique()    # Number of unique values"
   ]
  },
  {
   "cell_type": "code",
   "execution_count": 19,
   "metadata": {},
   "outputs": [
    {
     "data": {
      "text/plain": [
       "array(['Critic', 'User'], dtype=object)"
      ]
     },
     "execution_count": 19,
     "metadata": {},
     "output_type": "execute_result"
    }
   ],
   "source": [
    "df['Reviewer Type'].unique()    # Unique values"
   ]
  },
  {
   "cell_type": "code",
   "execution_count": 20,
   "metadata": {},
   "outputs": [
    {
     "data": {
      "text/plain": [
       "Reviewer Type\n",
       "User      405329\n",
       "Critic    107921\n",
       "Name: count, dtype: int64"
      ]
     },
     "execution_count": 20,
     "metadata": {},
     "output_type": "execute_result"
    }
   ],
   "source": [
    "df['Reviewer Type'].value_counts(dropna = False)"
   ]
  },
  {
   "cell_type": "markdown",
   "metadata": {},
   "source": [
    "The two reviewer types are users and critics. The majority of the reviewer types are users. "
   ]
  },
  {
   "cell_type": "markdown",
   "metadata": {},
   "source": [
    "Investigating Null values and deciding what to do with them."
   ]
  },
  {
   "cell_type": "code",
   "execution_count": 21,
   "metadata": {},
   "outputs": [
    {
     "data": {
      "text/plain": [
       "7927"
      ]
     },
     "execution_count": 21,
     "metadata": {},
     "output_type": "execute_result"
    }
   ],
   "source": [
    "df['Review Date'].nunique()     # Number of unique values"
   ]
  },
  {
   "cell_type": "code",
   "execution_count": 22,
   "metadata": {},
   "outputs": [
    {
     "data": {
      "text/plain": [
       "108206"
      ]
     },
     "execution_count": 22,
     "metadata": {},
     "output_type": "execute_result"
    }
   ],
   "source": [
    "df['Review Date'].isna().sum()      # Count how many null values there are"
   ]
  },
  {
   "cell_type": "code",
   "execution_count": 26,
   "metadata": {},
   "outputs": [
    {
     "data": {
      "text/plain": [
       "Review Date\n",
       "NaN          108206\n",
       "1-Feb-20       3059\n",
       "12-Dec-20      2914\n",
       "2-Feb-20       2673\n",
       "31-Jan-20      2102\n",
       "              ...  \n",
       "28-Dec-03         1\n",
       "3-Mar-04          1\n",
       "14-Dec-02         1\n",
       "16-Jul-02         1\n",
       "19-Jul-03         1\n",
       "Name: count, Length: 7928, dtype: int64"
      ]
     },
     "execution_count": 26,
     "metadata": {},
     "output_type": "execute_result"
    }
   ],
   "source": [
    "df['Review Date'].value_counts(dropna = False, ascending = False)"
   ]
  },
  {
   "cell_type": "code",
   "execution_count": 27,
   "metadata": {},
   "outputs": [
    {
     "data": {
      "text/plain": [
       "Game Title                          54\n",
       "Game Poster                         54\n",
       "Game Release Date                   54\n",
       "Game Developer                     273\n",
       "Genre                               54\n",
       "Platforms                            0\n",
       "Product Rating                   87723\n",
       "Overall Metascore                   69\n",
       "Overall User Rating                122\n",
       "Reviewer Name                      903\n",
       "Reviewer Type                        0\n",
       "Rating Given By The Reviewer      2801\n",
       "Review Date                     108206\n",
       "Review Text                        446\n",
       "dtype: int64"
      ]
     },
     "execution_count": 27,
     "metadata": {},
     "output_type": "execute_result"
    }
   ],
   "source": [
    "df.isna().sum()     # Count null values for all columns"
   ]
  },
  {
   "cell_type": "code",
   "execution_count": 28,
   "metadata": {},
   "outputs": [
    {
     "data": {
      "text/plain": [
       "200759"
      ]
     },
     "execution_count": 28,
     "metadata": {},
     "output_type": "execute_result"
    }
   ],
   "source": [
    "df.isna().sum().sum()     # Count null values for whole dataset"
   ]
  },
  {
   "cell_type": "code",
   "execution_count": 31,
   "metadata": {},
   "outputs": [],
   "source": [
    "percent_not_null_review_date = round((len(df) - df['Review Date'].isna().sum()) / len(df), 3) * 100"
   ]
  },
  {
   "cell_type": "code",
   "execution_count": 35,
   "metadata": {},
   "outputs": [
    {
     "name": "stdout",
     "output_type": "stream",
     "text": [
      "% of review date not null:  78.9 %\n"
     ]
    }
   ],
   "source": [
    "print(\"% of review date not null: \", percent_not_null_review_date, \"%\")"
   ]
  },
  {
   "cell_type": "code",
   "execution_count": null,
   "metadata": {},
   "outputs": [],
   "source": []
  }
 ],
 "metadata": {
  "kernelspec": {
   "display_name": "Python 3",
   "language": "python",
   "name": "python3"
  },
  "language_info": {
   "codemirror_mode": {
    "name": "ipython",
    "version": 3
   },
   "file_extension": ".py",
   "mimetype": "text/x-python",
   "name": "python",
   "nbconvert_exporter": "python",
   "pygments_lexer": "ipython3",
   "version": "3.10.9"
  }
 },
 "nbformat": 4,
 "nbformat_minor": 2
}
